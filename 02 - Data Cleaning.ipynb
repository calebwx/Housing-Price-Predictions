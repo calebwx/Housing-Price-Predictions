{
 "cells": [
  {
   "cell_type": "code",
   "execution_count": 1,
   "metadata": {},
   "outputs": [],
   "source": [
    "import numpy as np\n",
    "import pandas as pd"
   ]
  },
  {
   "cell_type": "code",
   "execution_count": 2,
   "metadata": {},
   "outputs": [
    {
     "data": {
      "text/plain": [
       "(878, 80)"
      ]
     },
     "execution_count": 2,
     "metadata": {},
     "output_type": "execute_result"
    }
   ],
   "source": [
    "ames = pd.read_csv('./datasets/train.csv', na_values = '', keep_default_na= False)\n",
    "ames_test = pd.read_csv('./datasets/test.csv', na_values = '', keep_default_na=False)\n",
    "ames_test.shape"
   ]
  },
  {
   "cell_type": "code",
   "execution_count": 3,
   "metadata": {},
   "outputs": [],
   "source": [
    "def clean_data(df):\n",
    "    data = df.copy()\n",
    "    \n",
    "    #Where Lot Frontage is null, set it to zero\n",
    "    \n",
    "    data['Lot Frontage'] = data['Lot Frontage'].where(data['Lot Frontage'].notna(), 0)\n",
    "    \n",
    "    #Where Masonry Area is Null, set to zero, where Type is null, set to 'None'\n",
    "    \n",
    "    data['Mas Vnr Area'] = data['Mas Vnr Area'].where(data['Mas Vnr Area'].notna(), 0)\n",
    "    data['Mas Vnr Type'] = data['Mas Vnr Type'].where(data['Mas Vnr Type'].notna(), 'None')\n",
    "    \n",
    "    #Where the home has a basement, but exposure is null, set it to \"No\" for no exposure\n",
    "    data['Bsmt Exposure'] = data['Bsmt Exposure'].where((data['Total Bsmt SF'] == 0) | (data['Bsmt Exposure'].notna()), 'No')\n",
    "    \n",
    "    #Basement Bathrooms, null = 0\n",
    "    data['Bsmt Full Bath'] = data['Bsmt Full Bath'].where(data['Bsmt Full Bath'].notna(), 0)\n",
    "    data['Bsmt Half Bath'] = data['Bsmt Half Bath'].where(data['Bsmt Half Bath'].notna(), 0)\n",
    "    \n",
    "    #Basement Finish Type 2 null -> NA\n",
    "    data['BsmtFin Type 2'] = data['BsmtFin Type 2'].where(data['BsmtFin Type 2'].notna(), 'NA')\n",
    "    \n",
    "    #If the home has no garage, Garage Yr Blt is null. This won't work. Setting it to 0 will work.\n",
    "    #Garage Yer Blt has too much collinearity with Year Built, so it won't be used in any model\n",
    "    #It could still be used for feature engineering, however.\n",
    "    data['Garage Yr Blt'] = data['Garage Yr Blt'].where(data['Garage Yr Blt'].notna(), 0)\n",
    "    \n",
    "    data['Garage Finish'] = data['Garage Finish'].where(data['Garage Finish'].notna(), 'NA')\n",
    "    \n",
    "    #In the testing data:\n",
    "    \n",
    "    data['Electrical'] = data['Electrical'].where(data['Electrical'].notna(), 'SBrkr') #Assume most common\n",
    "    \n",
    "    #The majority of nulls in the training and testing data are accounted for now. The rest of the data with null values will be dropped - TRAINING ONLY!\n",
    "    \n",
    "    data.dropna(inplace = True)\n",
    "    \n",
    "    #Drop rows where the \"Age\" feature becomes negative\n",
    "    \n",
    "    data.drop(data.loc[data['Yr Sold'] < data['Year Built']].index, inplace=True)\n",
    "    \n",
    "    #Cleaning up outliers that are either some extraordinary circumstance or data entry errors\n",
    "    \n",
    "    if('SalePrice' in data.columns):\n",
    "        data.drop(data.loc[(data['SalePrice'] < 200_000) & (data['Gr Liv Area'] > 5000)].index, inplace = True)\n",
    "    \n",
    "    return data"
   ]
  },
  {
   "cell_type": "code",
   "execution_count": 4,
   "metadata": {},
   "outputs": [
    {
     "data": {
      "text/plain": [
       "Series([], dtype: int64)"
      ]
     },
     "execution_count": 4,
     "metadata": {},
     "output_type": "execute_result"
    }
   ],
   "source": [
    "ames = clean_data(ames)\n",
    "ames.isna().sum()[ames.isna().sum() > 0]"
   ]
  },
  {
   "cell_type": "code",
   "execution_count": 5,
   "metadata": {},
   "outputs": [
    {
     "data": {
      "text/plain": [
       "Lot Frontage     160\n",
       "Mas Vnr Type       1\n",
       "Mas Vnr Area       1\n",
       "Electrical         1\n",
       "Garage Yr Blt     45\n",
       "Garage Finish      1\n",
       "dtype: int64"
      ]
     },
     "execution_count": 5,
     "metadata": {},
     "output_type": "execute_result"
    }
   ],
   "source": [
    "#ames_test = clean_data(ames_test)\n",
    "ames_test.isna().sum()[ames_test.isna().sum() > 0]"
   ]
  },
  {
   "cell_type": "code",
   "execution_count": 6,
   "metadata": {},
   "outputs": [
    {
     "data": {
      "text/plain": [
       "764   NaN\n",
       "Name: Garage Yr Blt, dtype: float64"
      ]
     },
     "execution_count": 6,
     "metadata": {},
     "output_type": "execute_result"
    }
   ],
   "source": [
    "ames_test[ames_test['Garage Finish'].isna()]['Garage Yr Blt']"
   ]
  },
  {
   "cell_type": "code",
   "execution_count": 7,
   "metadata": {},
   "outputs": [
    {
     "data": {
      "text/plain": [
       "SBrkr    813\n",
       "FuseA     48\n",
       "FuseF     15\n",
       "FuseP      1\n",
       "Name: Electrical, dtype: int64"
      ]
     },
     "execution_count": 7,
     "metadata": {},
     "output_type": "execute_result"
    }
   ],
   "source": [
    "ames_test['Electrical'].value_counts()"
   ]
  },
  {
   "cell_type": "code",
   "execution_count": 8,
   "metadata": {},
   "outputs": [
    {
     "data": {
      "text/plain": [
       "(2047, 81)"
      ]
     },
     "execution_count": 8,
     "metadata": {},
     "output_type": "execute_result"
    }
   ],
   "source": [
    "ames.shape"
   ]
  },
  {
   "cell_type": "code",
   "execution_count": 9,
   "metadata": {},
   "outputs": [
    {
     "data": {
      "text/plain": [
       "(878, 80)"
      ]
     },
     "execution_count": 9,
     "metadata": {},
     "output_type": "execute_result"
    }
   ],
   "source": [
    "ames_test.shape"
   ]
  },
  {
   "cell_type": "code",
   "execution_count": 10,
   "metadata": {},
   "outputs": [],
   "source": [
    "ames.to_csv('./datasets/train_clean.csv')\n",
    "ames_test.to_csv('./datasets/test_clean.csv')"
   ]
  },
  {
   "cell_type": "code",
   "execution_count": 11,
   "metadata": {},
   "outputs": [
    {
     "data": {
      "text/html": [
       "<div>\n",
       "<style scoped>\n",
       "    .dataframe tbody tr th:only-of-type {\n",
       "        vertical-align: middle;\n",
       "    }\n",
       "\n",
       "    .dataframe tbody tr th {\n",
       "        vertical-align: top;\n",
       "    }\n",
       "\n",
       "    .dataframe thead th {\n",
       "        text-align: right;\n",
       "    }\n",
       "</style>\n",
       "<table border=\"1\" class=\"dataframe\">\n",
       "  <thead>\n",
       "    <tr style=\"text-align: right;\">\n",
       "      <th></th>\n",
       "      <th>Id</th>\n",
       "      <th>PID</th>\n",
       "      <th>MS SubClass</th>\n",
       "      <th>MS Zoning</th>\n",
       "      <th>Lot Frontage</th>\n",
       "      <th>Lot Area</th>\n",
       "      <th>Street</th>\n",
       "      <th>Alley</th>\n",
       "      <th>Lot Shape</th>\n",
       "      <th>Land Contour</th>\n",
       "      <th>...</th>\n",
       "      <th>Screen Porch</th>\n",
       "      <th>Pool Area</th>\n",
       "      <th>Pool QC</th>\n",
       "      <th>Fence</th>\n",
       "      <th>Misc Feature</th>\n",
       "      <th>Misc Val</th>\n",
       "      <th>Mo Sold</th>\n",
       "      <th>Yr Sold</th>\n",
       "      <th>Sale Type</th>\n",
       "      <th>SalePrice</th>\n",
       "    </tr>\n",
       "  </thead>\n",
       "  <tbody>\n",
       "  </tbody>\n",
       "</table>\n",
       "<p>0 rows × 81 columns</p>\n",
       "</div>"
      ],
      "text/plain": [
       "Empty DataFrame\n",
       "Columns: [Id, PID, MS SubClass, MS Zoning, Lot Frontage, Lot Area, Street, Alley, Lot Shape, Land Contour, Utilities, Lot Config, Land Slope, Neighborhood, Condition 1, Condition 2, Bldg Type, House Style, Overall Qual, Overall Cond, Year Built, Year Remod/Add, Roof Style, Roof Matl, Exterior 1st, Exterior 2nd, Mas Vnr Type, Mas Vnr Area, Exter Qual, Exter Cond, Foundation, Bsmt Qual, Bsmt Cond, Bsmt Exposure, BsmtFin Type 1, BsmtFin SF 1, BsmtFin Type 2, BsmtFin SF 2, Bsmt Unf SF, Total Bsmt SF, Heating, Heating QC, Central Air, Electrical, 1st Flr SF, 2nd Flr SF, Low Qual Fin SF, Gr Liv Area, Bsmt Full Bath, Bsmt Half Bath, Full Bath, Half Bath, Bedroom AbvGr, Kitchen AbvGr, Kitchen Qual, TotRms AbvGrd, Functional, Fireplaces, Fireplace Qu, Garage Type, Garage Yr Blt, Garage Finish, Garage Cars, Garage Area, Garage Qual, Garage Cond, Paved Drive, Wood Deck SF, Open Porch SF, Enclosed Porch, 3Ssn Porch, Screen Porch, Pool Area, Pool QC, Fence, Misc Feature, Misc Val, Mo Sold, Yr Sold, Sale Type, SalePrice]\n",
       "Index: []\n",
       "\n",
       "[0 rows x 81 columns]"
      ]
     },
     "execution_count": 11,
     "metadata": {},
     "output_type": "execute_result"
    }
   ],
   "source": [
    "ames.loc[(ames['SalePrice'] < 200_000) & (ames['Gr Liv Area'] > 5000)]"
   ]
  }
 ],
 "metadata": {
  "kernelspec": {
   "display_name": "Python 3",
   "language": "python",
   "name": "python3"
  },
  "language_info": {
   "codemirror_mode": {
    "name": "ipython",
    "version": 3
   },
   "file_extension": ".py",
   "mimetype": "text/x-python",
   "name": "python",
   "nbconvert_exporter": "python",
   "pygments_lexer": "ipython3",
   "version": "3.7.7"
  }
 },
 "nbformat": 4,
 "nbformat_minor": 4
}
