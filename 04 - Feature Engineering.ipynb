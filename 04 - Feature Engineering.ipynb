{
 "cells": [
  {
   "cell_type": "code",
   "execution_count": 1,
   "metadata": {},
   "outputs": [],
   "source": [
    "import numpy as np\n",
    "import pandas as pd\n",
    "import matplotlib.pyplot as plt\n",
    "import seaborn as sns\n",
    "from sklearn.linear_model import LinearRegression\n",
    "from sklearn import metrics\n",
    "from sklearn.model_selection import train_test_split, cross_val_score\n",
    "import statsmodels.api as sm"
   ]
  },
  {
   "cell_type": "code",
   "execution_count": 2,
   "metadata": {},
   "outputs": [],
   "source": [
    "ames = pd.read_csv('./datasets/train_clean.csv', keep_default_na=False, index_col=0)\n",
    "ames_test = pd.read_csv('./datasets/test_clean.csv', keep_default_na=False, index_col=0)"
   ]
  },
  {
   "cell_type": "code",
   "execution_count": 3,
   "metadata": {},
   "outputs": [],
   "source": [
    "def sum_features(df, new_col_name, features_list):\n",
    "    #df : dataframe\n",
    "    #new_col_name : string, name to give the new column\n",
    "    #features_llist : list of strings, to index features from df\n",
    "    \n",
    "    dfcopy = df.copy()\n",
    "    \n",
    "    #add_col : column that will contain the sum of the data in the features\n",
    "    sum_col = np.zeros_like(dfcopy[features_list[0]])\n",
    "    \n",
    "    for feature in features_list:\n",
    "        sum_col = sum_col + dfcopy[feature]\n",
    "        \n",
    "    dfcopy[new_col_name] = sum_col\n",
    "    return dfcopy\n",
    "\n",
    "def multiply_features(df, new_col_name, features_list):\n",
    "    #df : dataframe\n",
    "    #new_col_name : string, name to give the new column\n",
    "    #features_llist : list of strings, to index features from df\n",
    "    \n",
    "    dfcopy = df.copy()\n",
    "    \n",
    "    #product_col : column that will contain the product of the data in the features\n",
    "    product_col = np.zeros_like(dfcopy[features_list[0]]) + 1 #start with 1, because 1 * x = x\n",
    "    \n",
    "    for feature in features_list:\n",
    "        product_col = product_col * df[feature]\n",
    "    \n",
    "    dfcopy[new_col_name] = product_col\n",
    "    return dfcopy"
   ]
  },
  {
   "cell_type": "code",
   "execution_count": 4,
   "metadata": {},
   "outputs": [],
   "source": [
    "#Create a new column for Total SF, sum of above-ground Living area, Total Basement square feet, and garage are\n",
    "\n",
    "ames = sum_features(ames, 'Total SF', ['Gr Liv Area', 'Total Bsmt SF', 'Garage Area'])\n",
    "ames_test = sum_features(ames_test, 'Total SF', ['Gr Liv Area', 'Total Bsmt SF', 'Garage Area'])\n",
    "\n",
    "#Create a new column for porch SF, sum of all porch areas\n",
    "\n",
    "ames = sum_features(ames, 'Porch SF', ['Wood Deck SF', 'Open Porch SF','Enclosed Porch', '3Ssn Porch', 'Screen Porch'])\n",
    "ames_test = sum_features(ames_test, 'Porch SF', ['Wood Deck SF', 'Open Porch SF','Enclosed Porch', '3Ssn Porch', 'Screen Porch'])"
   ]
  },
  {
   "cell_type": "code",
   "execution_count": 5,
   "metadata": {},
   "outputs": [],
   "source": [
    "#Create a new column for the interaction of Total SF and Overall Quality\n",
    "\n",
    "ames = multiply_features(ames, 'SF Qual', ['Total SF', 'Overall Qual'])\n",
    "ames_test = multiply_features(ames_test, 'SF Qual', ['Total SF', 'Overall Qual'])"
   ]
  },
  {
   "cell_type": "code",
   "execution_count": 6,
   "metadata": {},
   "outputs": [],
   "source": [
    "#Create a new column for the age of the home at time of sale\n",
    "\n",
    "ames['Age'] = ames['Yr Sold'] - ames['Year Built']\n",
    "ames_test['Age'] = ames_test['Yr Sold'] - ames_test['Year Built']"
   ]
  },
  {
   "cell_type": "code",
   "execution_count": 7,
   "metadata": {},
   "outputs": [],
   "source": [
    "#Create a new column that is the log of age - with 0.5 years added (possibly better estimates, but more importantly avoids infinities)\n",
    "\n",
    "ames['Log Age'] = np.log(ames['Age'] + 0.5)\n",
    "ames_test['Log Age'] = np.log(ames_test['Age'] + 0.5)"
   ]
  },
  {
   "cell_type": "code",
   "execution_count": 8,
   "metadata": {},
   "outputs": [
    {
     "data": {
      "text/plain": [
       "(2047, 86)"
      ]
     },
     "execution_count": 8,
     "metadata": {},
     "output_type": "execute_result"
    }
   ],
   "source": [
    "ames.shape"
   ]
  },
  {
   "cell_type": "code",
   "execution_count": 9,
   "metadata": {},
   "outputs": [
    {
     "data": {
      "text/plain": [
       "(878, 85)"
      ]
     },
     "execution_count": 9,
     "metadata": {},
     "output_type": "execute_result"
    }
   ],
   "source": [
    "ames_test.shape"
   ]
  },
  {
   "cell_type": "code",
   "execution_count": 10,
   "metadata": {},
   "outputs": [],
   "source": [
    "ames.to_csv('./datasets/train_features.csv')\n",
    "ames_test.to_csv('./datasets/test_features.csv')"
   ]
  },
  {
   "cell_type": "code",
   "execution_count": null,
   "metadata": {},
   "outputs": [],
   "source": []
  },
  {
   "cell_type": "code",
   "execution_count": null,
   "metadata": {},
   "outputs": [],
   "source": []
  }
 ],
 "metadata": {
  "kernelspec": {
   "display_name": "Python 3",
   "language": "python",
   "name": "python3"
  },
  "language_info": {
   "codemirror_mode": {
    "name": "ipython",
    "version": 3
   },
   "file_extension": ".py",
   "mimetype": "text/x-python",
   "name": "python",
   "nbconvert_exporter": "python",
   "pygments_lexer": "ipython3",
   "version": "3.7.7"
  }
 },
 "nbformat": 4,
 "nbformat_minor": 4
}
